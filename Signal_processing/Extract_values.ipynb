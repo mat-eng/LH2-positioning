{
  "cells": [
    {
      "metadata": {
        "trusted": true
      },
      "cell_type": "code",
      "source": "import numpy as np\nfrom lfsr import LFSR\nimport itertools\nfrom math import sin,tan,atan;",
      "execution_count": 1,
      "outputs": []
    },
    {
      "metadata": {
        "trusted": true
      },
      "cell_type": "code",
      "source": "",
      "execution_count": null,
      "outputs": []
    },
    {
      "metadata": {
        "trusted": true
      },
      "cell_type": "code",
      "source": "# First one is x^17 + x^13 + x^12 + x^10 + x^7 + x^4 + x^2 + x^1 + 1\npolys = [0x0001D258, 0x00017E04,\n         0x0001FF6B, 0x00013F67,\n         0x0001B9EE, 0x000198D1,\n         0x000178C7, 0x00018A55,\n         0x00015777, 0x0001D911,\n         0x00015769, 0x0001991F,\n         0x00012BD0, 0x0001CF73,\n         0x0001365D, 0x000197F5,\n         0x000194A0, 0x0001B279,\n         0x00013A34, 0x0001AE41,\n         0x000180D4, 0x00017891,\n         0x00012E64, 0x00017C72,\n         0x00019C6D, 0x00013F32,\n         0x0001AE14, 0x00014E76,\n         0x00013C97, 0x000130CB,\n         0x00013750, 0x0001CB8D]\n\n# Expressed using a 48 MHz clock\nperiods = [959000, 957000,\n           953000, 949000,\n           947000, 943000,\n           941000, 939000,\n           937000, 929000,\n           919000, 911000,\n           907000, 901000,\n           893000, 887000]",
      "execution_count": 2,
      "outputs": []
    },
    {
      "metadata": {
        "trusted": true
      },
      "cell_type": "code",
      "source": "def nth(iterable, nth):\n    return next(itertools.islice(iterable, nth, nth+1))\n\ndef search(poly, cipher):\n    i = 0\n    lfsr = LFSR(poly)\n    while (next(lfsr) != cipher): i += 1\n    return i\n\n# cipher captured to test\ncipher1 = 125180;\ncipher2 = 37370;\n\ncandidates = np.zeros((32,3),dtype=int);\n\nfor k in range(0,32):\n    candidates[k,0] = k;\n    candidates[k,2] = search(polys[k], cipher1);\n    candidates[k,1] = abs(candidates[k][2] - search(polys[k], cipher2));\n    \ncandidates = sorted(candidates,key=lambda x: x[1]); \n\n# Can be done in one line :\n#candidates = sorted([(k,abs(search(poly, cipher1) - search(poly, cipher2)))for k, poly in enumerate(polys)],key=lambda x: x[1])",
      "execution_count": 22,
      "outputs": []
    },
    {
      "metadata": {
        "trusted": true
      },
      "cell_type": "code",
      "source": "lfsr_found = candidates[0][0];\ndelta      = candidates[0][1];\noffset     = candidates[0][2];\nprint('Delta :',delta);\nprint('LFSR  :',lfsr_found);\n\noffset1 = offset;\noffset2 = offset+delta;\nprint('Offset1 :',offset1);\nprint('Offset2 :',offset2);",
      "execution_count": 23,
      "outputs": [
        {
          "output_type": "stream",
          "text": "Delta : 444\nLFSR  : 1\nOffset1 : 76838\nOffset2 : 77282\n",
          "name": "stdout"
        }
      ]
    },
    {
      "metadata": {
        "trusted": true
      },
      "cell_type": "code",
      "source": "u = nth(LFSR(polys[lfsr_found]), 37138);\nv = nth(LFSR(polys[lfsr_found]), 37607);\n\nif(u==cipher1):\n    print(u,': Offset1 ok');\nelse:\n    print(u,': Offset1 not ok');\n    \nif(v==cipher2):\n    print(v,': Offset2 ok');\nelse:\n    print(v,': Offset2 not ok');",
      "execution_count": 13,
      "outputs": [
        {
          "output_type": "stream",
          "text": "115834 : Offset1 not ok\n100785 : Offset2 not ok\n",
          "name": "stdout"
        }
      ]
    },
    {
      "metadata": {
        "trusted": true
      },
      "cell_type": "code",
      "source": "print(search(polys[1], 73630));",
      "execution_count": 32,
      "outputs": [
        {
          "output_type": "stream",
          "text": "76843\n",
          "name": "stdout"
        }
      ]
    },
    {
      "metadata": {
        "trusted": true
      },
      "cell_type": "code",
      "source": "firstBeam = [37138,37145,37145,\n             37607,37603,37590,\n             37466,37468,37486];\n\nsecondBeam = [76838,76838,76843,\n              77282,77291,77300,\n              77423,77423,77426];",
      "execution_count": 33,
      "outputs": []
    },
    {
      "metadata": {
        "trusted": true
      },
      "cell_type": "code",
      "source": "azimuth = np.zeros((9,1),dtype=float);\nelevation = np.zeros((9,1),dtype=float);",
      "execution_count": 34,
      "outputs": []
    },
    {
      "metadata": {
        "trusted": true
      },
      "cell_type": "code",
      "source": "for i in range(0,9):\n    firstBeam[i]  = ((firstBeam[i]  * 8.0) / periods[0]) * 2 * np.pi;\n    secondBeam[i] = ((secondBeam[i] * 8.0) / periods[0]) * 2 * np.pi;\n\n    azimuth[i] = ((firstBeam[i] + secondBeam[i]) / 2) - np.pi;\n    p = 60/180*np.pi;\n    beta = (secondBeam[i] - firstBeam[i]) - 120/180*np.pi;\n    elevation[i] = atan(sin(beta/2)/tan(p/2));",
      "execution_count": 35,
      "outputs": []
    },
    {
      "metadata": {
        "trusted": true
      },
      "cell_type": "code",
      "source": "print('Angle en degré');\nprint('');\nprint('Mesure n°\\tAngle\\t\\tCapteur 1\\t\\tCapteur 2\\t\\tCapteur 3');\nprint('');\nprint('1\\t\\tazimuth\\t\\t',azimuth[0]/np.pi*180,'\\t\\t',azimuth[1]/np.pi*180,'\\t\\t',azimuth[2]/np.pi*180);\nprint('1\\t\\televation\\t',elevation[0]/np.pi*180,'\\t\\t',elevation[1]/np.pi*180,'\\t\\t',elevation[2]/np.pi*180);\nprint('');\nprint('2\\t\\tazimuth\\t\\t',azimuth[3]/np.pi*180,'\\t\\t',azimuth[4]/np.pi*180,'\\t\\t',azimuth[5]/np.pi*180);\nprint('2\\t\\televation\\t',elevation[3]/np.pi*180,'\\t\\t',elevation[4]/np.pi*180,'\\t\\t',elevation[5]/np.pi*180);\nprint('');\nprint('3\\t\\tazimuth\\t\\t',azimuth[6]/np.pi*180,'\\t\\t',azimuth[7]/np.pi*180,'\\t\\t',azimuth[8]/np.pi*180);\nprint('3\\t\\televation\\t',elevation[6]/np.pi*180,'\\t\\t',elevation[7]/np.pi*180,'\\t\\t',elevation[8]/np.pi*180);",
      "execution_count": 62,
      "outputs": [
        {
          "output_type": "stream",
          "text": "Angle en degré\n\nMesure n°\tAngle\t\tCapteur 1\t\tCapteur 2\t\tCapteur 3\n\n1\t\tazimuth\t\t [-8.8577268] \t\t [-8.84721585] \t\t [-8.83970803]\n1\t\televation\t [-0.67183363] \t\t [-0.69003612] \t\t [-0.67703436]\n\n2\t\tazimuth\t\t [-7.48679875] \t\t [-7.47929093] \t\t [-7.48529718]\n2\t\televation\t [-0.73684179] \t\t [-0.70303781] \t\t [-0.64582979]\n\n3\t\tazimuth\t\t [-7.48679875] \t\t [-7.48379562] \t\t [-7.45226277]\n3\t\televation\t [-0.00346771] \t\t [-0.00866928] \t\t [-0.04768105]\n",
          "name": "stdout"
        }
      ]
    },
    {
      "metadata": {
        "trusted": true
      },
      "cell_type": "code",
      "source": "",
      "execution_count": null,
      "outputs": []
    }
  ],
  "metadata": {
    "kernelspec": {
      "name": "python36",
      "display_name": "Python 3.6",
      "language": "python"
    },
    "language_info": {
      "mimetype": "text/x-python",
      "nbconvert_exporter": "python",
      "name": "python",
      "pygments_lexer": "ipython3",
      "version": "3.6.6",
      "file_extension": ".py",
      "codemirror_mode": {
        "version": 3,
        "name": "ipython"
      }
    }
  },
  "nbformat": 4,
  "nbformat_minor": 2
}