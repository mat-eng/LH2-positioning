{
  "cells": [
    {
      "metadata": {
        "trusted": true
      },
      "cell_type": "code",
      "source": "import numpy as np\nfrom lfsr import LFSR",
      "execution_count": 2,
      "outputs": []
    },
    {
      "metadata": {
        "trusted": true
      },
      "cell_type": "code",
      "source": "polys = [0x0001D258, 0x00017E04,\n         0x0001FF6B, 0x00013F67,\n         0x0001B9EE, 0x000198D1,\n         0x000178C7, 0x00018A55,\n         0x00015777, 0x0001D911,\n         0x00015769, 0x0001991F,\n         0x00012BD0, 0x0001CF73,\n         0x0001365D, 0x000197F5,\n         0x000194A0, 0x0001B279,\n         0x00013A34, 0x0001AE41,\n         0x000180D4, 0x00017891,\n         0x00012E64, 0x00017C72,\n         0x00019C6D, 0x00013F32,\n         0x0001AE14, 0x00014E76,\n         0x00013C97, 0x000130CB,\n         0x00013750, 0x0001CB8D]",
      "execution_count": 139,
      "outputs": []
    },
    {
      "metadata": {
        "trusted": true
      },
      "cell_type": "code",
      "source": "# Compute the x LFSR\nu = np.zeros((2**4,1),dtype=int);\n\n\nlfsr = LFSR(polys[i])\nfor j in range(0,2**4):\n    u[j,1]=next(lfsr);\n",
      "execution_count": null,
      "outputs": []
    },
    {
      "metadata": {
        "trusted": true
      },
      "cell_type": "code",
      "source": "",
      "execution_count": null,
      "outputs": []
    },
    {
      "metadata": {
        "trusted": true
      },
      "cell_type": "code",
      "source": "",
      "execution_count": null,
      "outputs": []
    },
    {
      "metadata": {
        "trusted": true
      },
      "cell_type": "code",
      "source": "x = 32;\n# Compute the x LFSR\nu = np.zeros((2**17,x),dtype=int);\n\nfor i in range(0,x):\n    lfsr = LFSR(polys[i])\n    for j in range(0,2**17):\n        u[j,i]=next(lfsr);\n    print('LFSR ',i,' done');",
      "execution_count": 181,
      "outputs": [
        {
          "output_type": "stream",
          "text": "LFSR  0  done\nLFSR  1  done\nLFSR  2  done\nLFSR  3  done\nLFSR  4  done\nLFSR  5  done\nLFSR  6  done\nLFSR  7  done\nLFSR  8  done\nLFSR  9  done\nLFSR  10  done\nLFSR  11  done\nLFSR  12  done\nLFSR  13  done\nLFSR  14  done\nLFSR  15  done\nLFSR  16  done\nLFSR  17  done\nLFSR  18  done\nLFSR  19  done\nLFSR  20  done\nLFSR  21  done\nLFSR  22  done\nLFSR  23  done\nLFSR  24  done\nLFSR  25  done\nLFSR  26  done\nLFSR  27  done\nLFSR  28  done\nLFSR  29  done\nLFSR  30  done\nLFSR  31  done\n",
          "name": "stdout"
        }
      ]
    },
    {
      "metadata": {
        "trusted": true
      },
      "cell_type": "code",
      "source": "print(\"%9s%9s%9s%9s%9s%9s%9s%9s%9s%9s%9s%9s%9s%9s\" % (\"LFSR0\",\"LFSR1\",\"LFSR2\",\"LFSR3\",\"LFSR4\",\"LFSR5\",\"LFSR6\",\n                                                      \"LFSR7\",\"LFSR8\",\"LFSR9\",\"LFSR10\",\"LFSR11\",\"...\",\"LFSR31\",));\nprint('----------------------------------------------------------------------------------------------------------------- ... -----------')\nfor j in range(0,10):\n    print(\"%9d%9d%9d%9d%9d%9d%9d%9d%9d%9d%9d%9d%9s%9d\" % (u[j][0],u[j][1],u[j][2],u[j][3],u[j][4],u[j][5],u[j][6],\n                                                          u[j][7],u[j][8],u[j][9],u[j][10],u[j][11],\"...\",u[j][31]));    \nprint(\"%9s%9s%9s%9s%9s%9s%9s%9s%9s%9s%9s%9s%9s%9s\" % (\"...\",\"...\",\"...\",\"...\",\"...\",\"...\",\"...\",\"...\",\"...\",\"...\",\"...\",\"...\",\"...\",\"...\"));\n\nmax = 2**17-4;\nfor max in range(2**17-10,2**17):\n    print(\"%9d%9d%9d%9d%9d%9d%9d%9d%9d%9d%9d%9d%9s%9d\" % (u[max][0],u[max][1],u[max][2],u[max][3],u[max][4],u[max][5],u[max][6],\n                                                          u[max][7],u[max][8],u[max][9],u[max][10],u[max][11],\"...\",u[max][31]));",
      "execution_count": 205,
      "outputs": [
        {
          "output_type": "stream",
          "text": "    LFSR0    LFSR1    LFSR2    LFSR3    LFSR4    LFSR5    LFSR6    LFSR7    LFSR8    LFSR9   LFSR10   LFSR11      ...   LFSR31\n----------------------------------------------------------------------------------------------------------------- ... -----------\n        2        2        3        3        2        3        3        3        3        3        3        3      ...        3\n        4        4        6        6        5        7        6        7        6        7        7        6      ...        7\n        8        9       13       12       11       15       12       14       12       15       15       12      ...       14\n       17       18       26       25       22       31       25       29       25       31       30       24      ...       28\n       35       36       52       51       44       62       51       59       50       62       61       48      ...       56\n       70       73      105      103       89      125      102      118      101      125      123       97      ...      113\n      141      146      210      207      178      251      205      237      202      250      246      195      ...      227\n      283      292      420      414      357      502      410      475      404      501      492      390      ...      454\n      566      585      840      829      714     1005      820      951      809     1003      984      781      ...      909\n     1132     1171     1680     1659     1428     2011     1641     1902     1618     2006     1968     1562      ...     1818\n      ...      ...      ...      ...      ...      ...      ...      ...      ...      ...      ...      ...      ...      ...\n     5632    55808     1536    94720    52736     7680    88576   114176    68096    22016    68096     7680      ...   128512\n    11264   111616     3072    58368   105472    15360    46080    97280     5120    44032     5120    15360      ...   125952\n    22528    92160     6144   116736    79872    30720    92160    63488    10240    88064    10240    30720      ...   120832\n    45056    53248    12288   102400    28672    61440    53248   126976    20480    45056    20480    61440      ...   110592\n    90112   106496    24576    73728    57344   122880   106496   122880    40960    90112    40960   122880      ...    90112\n    49152    81920    49152    16384   114688   114688    81920   114688    81920    49152    81920   114688      ...    49152\n    98304    32768    98304    32768    98304    98304    32768    98304    32768    98304    32768    98304      ...    98304\n    65536    65536    65536    65536    65536    65536    65536    65536    65536    65536    65536    65536      ...    65536\n        1        1        1        1        1        1        1        1        1        1        1        1      ...        1\n        2        2        3        3        2        3        3        3        3        3        3        3      ...        3\n",
          "name": "stdout"
        }
      ]
    },
    {
      "metadata": {
        "trusted": true
      },
      "cell_type": "code",
      "source": "error_tab = np.zeros(2**17,dtype=int);\nfor j in range(0,2**17):\n    a,b = np.where(u==j)\n    l = len(a);\n\n    nextValue = np.zeros(l,dtype=int);\n    #nenextValue = np.zeros(l,dtype=int);\n    nextValue = list(nextValue);\n    #nenextValue = list(nenextValue);\n    for i in range(0,l):\n        if(a[i]!=(2**17)-1 ):#and a[i]!=(2**17)-2):\n            nextValue[i] = u[a[i]+1][b[i]];\n            #nenextValue[i] = u[a[i]+2][b[i]];\n        \n    # Checked that the next LFSR value are all different\n    if(set([x for x in nextValue if nextValue.count(x) > 1]) ):#and set([x for x in nenextValue if nenextValue.count(x) > 1])):\n        #print('Test failed for cipher = ',j);\n        error_tab[j]=1;\n        \n    if((j%500)==0):\n        print(j);\n        ",
      "execution_count": 166,
      "outputs": [
        {
          "output_type": "stream",
          "text": "0\n500\n1000\n1500\n2000\n2500\n3000\n3500\n4000\n4500\n5000\n5500\n6000\n6500\n7000\n7500\n8000\n8500\n9000\n9500\n10000\n10500\n11000\n11500\n12000\n12500\n13000\n13500\n14000\n14500\n15000\n15500\n16000\n16500\n17000\n17500\n18000\n18500\n19000\n19500\n20000\n20500\n21000\n21500\n22000\n22500\n23000\n23500\n24000\n24500\n25000\n25500\n26000\n26500\n27000\n27500\n28000\n28500\n29000\n29500\n30000\n30500\n31000\n31500\n32000\n32500\n33000\n33500\n34000\n34500\n35000\n35500\n36000\n36500\n37000\n37500\n38000\n38500\n39000\n39500\n40000\n40500\n41000\n41500\n42000\n42500\n43000\n43500\n44000\n44500\n45000\n45500\n46000\n46500\n47000\n47500\n48000\n48500\n49000\n49500\n50000\n50500\n51000\n51500\n52000\n52500\n53000\n53500\n54000\n54500\n55000\n55500\n56000\n56500\n57000\n57500\n58000\n58500\n59000\n59500\n60000\n60500\n61000\n61500\n62000\n62500\n63000\n63500\n64000\n64500\n65000\n65500\n66000\n66500\n67000\n67500\n68000\n68500\n69000\n69500\n70000\n70500\n71000\n71500\n72000\n72500\n73000\n73500\n74000\n74500\n75000\n75500\n76000\n76500\n77000\n77500\n78000\n78500\n79000\n79500\n80000\n80500\n81000\n81500\n82000\n82500\n83000\n83500\n84000\n84500\n85000\n85500\n86000\n86500\n87000\n87500\n88000\n88500\n89000\n89500\n90000\n90500\n91000\n91500\n92000\n92500\n93000\n93500\n94000\n94500\n95000\n95500\n96000\n96500\n97000\n97500\n98000\n98500\n99000\n99500\n100000\n100500\n101000\n101500\n102000\n102500\n103000\n103500\n104000\n104500\n105000\n105500\n106000\n106500\n107000\n107500\n108000\n108500\n109000\n109500\n110000\n110500\n111000\n111500\n112000\n112500\n113000\n113500\n114000\n114500\n115000\n115500\n116000\n116500\n117000\n117500\n118000\n118500\n119000\n119500\n120000\n120500\n121000\n121500\n122000\n122500\n123000\n123500\n124000\n124500\n125000\n125500\n126000\n126500\n127000\n127500\n128000\n128500\n129000\n129500\n130000\n130500\n131000\n",
          "name": "stdout"
        }
      ]
    },
    {
      "metadata": {
        "trusted": true
      },
      "cell_type": "code",
      "source": "error_tab = list(error_tab)\nget_indexes = lambda error_tab, xs: [i for (y, i) in zip(xs, range(len(xs))) if error_tab == y]\ncount0 = get_indexes(0,error_tab)\ncount1 = get_indexes(1,error_tab)\nprint(len(count0))\nprint(len(count1))",
      "execution_count": 180,
      "outputs": [
        {
          "output_type": "stream",
          "text": "65537\n65535\n",
          "name": "stdout"
        }
      ]
    },
    {
      "metadata": {
        "trusted": true
      },
      "cell_type": "code",
      "source": "\nu = [1,2,3,14,4,6,5]\nprint(u)\nu = np.zeros(3,dtype=int);\nu = list(u)\nprint(u)\n# Checked that the next LFSR value are all different\nif(set([x for x in u if u.count(x) > 1])):\n    print('Same value for : ');\nelse:\n    print('Value passed : ');",
      "execution_count": 89,
      "outputs": [
        {
          "output_type": "stream",
          "text": "[1, 2, 3, 14, 4, 6, 5]\n[0, 0, 0]\nSame value for : \n",
          "name": "stdout"
        }
      ]
    },
    {
      "metadata": {
        "trusted": true
      },
      "cell_type": "code",
      "source": "a,b = np.where(u==1)\nl = len(a);\nnextValue = np.zeros(l,dtype=int);\nprint(len(a))\nprint(nextValue)",
      "execution_count": 81,
      "outputs": [
        {
          "output_type": "stream",
          "text": "32\n[0 0 0 0 0 0 0 0 0 0 0 0 0 0 0 0 0 0 0 0 0 0 0 0 0 0 0 0 0 0 0 0]\n",
          "name": "stdout"
        }
      ]
    },
    {
      "metadata": {
        "trusted": true
      },
      "cell_type": "code",
      "source": "c = np.zeros(3,dtype=int)\nc[2]=12\nprint(c)\nc = list(c)\n\ntry:\n    print(c.index(12))\n    #index_element = list_element.index(element)\nexcept ValueError:\n    print(\"fail\")\n\n\n",
      "execution_count": 23,
      "outputs": [
        {
          "output_type": "stream",
          "text": "[ 0  0 12]\n2\n",
          "name": "stdout"
        }
      ]
    },
    {
      "metadata": {
        "trusted": true
      },
      "cell_type": "code",
      "source": "MASK = 0x1FFFF\n\na = ((0xE0<<16)+(0x20<<8)+(0xE6))&MASK\nprint(a)",
      "execution_count": 17,
      "outputs": [
        {
          "output_type": "stream",
          "text": "8422\n",
          "name": "stdout"
        }
      ]
    },
    {
      "metadata": {
        "trusted": true
      },
      "cell_type": "code",
      "source": "",
      "execution_count": null,
      "outputs": []
    }
  ],
  "metadata": {
    "kernelspec": {
      "name": "python36",
      "display_name": "Python 3.6",
      "language": "python"
    },
    "language_info": {
      "mimetype": "text/x-python",
      "nbconvert_exporter": "python",
      "name": "python",
      "pygments_lexer": "ipython3",
      "version": "3.6.6",
      "file_extension": ".py",
      "codemirror_mode": {
        "version": 3,
        "name": "ipython"
      }
    }
  },
  "nbformat": 4,
  "nbformat_minor": 2
}